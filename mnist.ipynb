{
 "cells": [
  {
   "cell_type": "code",
   "execution_count": 0,
   "metadata": {
    "colab": {},
    "colab_type": "code",
    "id": "Y-WE7BciV_eR"
   },
   "outputs": [],
   "source": [
    "import numpy as np\n",
    "import pandas as pd\n",
    "import matplotlib.pyplot as plt\n",
    "from sklearn.model_selection import train_test_split\n",
    "\n",
    "import torch\n",
    "import torch.nn as nn\n",
    "import torch.nn.functional as F\n",
    "import torch.optim as optim\n",
    "import torch.utils.data"
   ]
  },
  {
   "cell_type": "code",
   "execution_count": 2,
   "metadata": {
    "colab": {
     "base_uri": "https://localhost:8080/",
     "height": 129
    },
    "colab_type": "code",
    "executionInfo": {
     "elapsed": 21636,
     "status": "ok",
     "timestamp": 1565103882476,
     "user": {
      "displayName": "Tu Ngo",
      "photoUrl": "https://lh3.googleusercontent.com/-aOVxMSryDDI/AAAAAAAAAAI/AAAAAAAAAGc/n_A7xmL7edA/s64/photo.jpg",
      "userId": "12219841345968683277"
     },
     "user_tz": -420
    },
    "id": "QdH4NZOEWSWA",
    "outputId": "379d5024-a298-4ab0-eca9-a467b59d1ed3"
   },
   "outputs": [
    {
     "name": "stdout",
     "output_type": "stream",
     "text": [
      "Go to this URL in a browser: https://accounts.google.com/o/oauth2/auth?client_id=947318989803-6bn6qk8qdgf4n4g3pfee6491hc0brc4i.apps.googleusercontent.com&redirect_uri=urn%3Aietf%3Awg%3Aoauth%3A2.0%3Aoob&scope=email%20https%3A%2F%2Fwww.googleapis.com%2Fauth%2Fdocs.test%20https%3A%2F%2Fwww.googleapis.com%2Fauth%2Fdrive%20https%3A%2F%2Fwww.googleapis.com%2Fauth%2Fdrive.photos.readonly%20https%3A%2F%2Fwww.googleapis.com%2Fauth%2Fpeopleapi.readonly&response_type=code\n",
      "\n",
      "Enter your authorization code:\n",
      "··········\n",
      "Mounted at /content/drive\n"
     ]
    }
   ],
   "source": [
    "from google.colab import drive\n",
    "drive.mount('/content/drive')"
   ]
  },
  {
   "cell_type": "code",
   "execution_count": 3,
   "metadata": {
    "colab": {
     "base_uri": "https://localhost:8080/",
     "height": 35
    },
    "colab_type": "code",
    "executionInfo": {
     "elapsed": 674,
     "status": "ok",
     "timestamp": 1565103887811,
     "user": {
      "displayName": "Tu Ngo",
      "photoUrl": "https://lh3.googleusercontent.com/-aOVxMSryDDI/AAAAAAAAAAI/AAAAAAAAAGc/n_A7xmL7edA/s64/photo.jpg",
      "userId": "12219841345968683277"
     },
     "user_tz": -420
    },
    "id": "XjSypzq3WeEm",
    "outputId": "462e2e45-a1f2-42de-de22-16e977410f2b"
   },
   "outputs": [
    {
     "name": "stdout",
     "output_type": "stream",
     "text": [
      "/content/drive/My Drive/Colab Notebooks/small projects/mnist\n"
     ]
    }
   ],
   "source": [
    "cd 'drive/My Drive/Colab Notebooks/small projects/mnist'"
   ]
  },
  {
   "cell_type": "code",
   "execution_count": 0,
   "metadata": {
    "colab": {},
    "colab_type": "code",
    "id": "GtnLhQ8NV_eh"
   },
   "outputs": [],
   "source": [
    "data_train = pd.read_csv('datasets/train.csv')\n",
    "data_test = pd.read_csv('datasets/test.csv')"
   ]
  },
  {
   "cell_type": "code",
   "execution_count": 5,
   "metadata": {
    "colab": {
     "base_uri": "https://localhost:8080/",
     "height": 127
    },
    "colab_type": "code",
    "executionInfo": {
     "elapsed": 671,
     "status": "ok",
     "timestamp": 1565103898834,
     "user": {
      "displayName": "Tu Ngo",
      "photoUrl": "https://lh3.googleusercontent.com/-aOVxMSryDDI/AAAAAAAAAAI/AAAAAAAAAGc/n_A7xmL7edA/s64/photo.jpg",
      "userId": "12219841345968683277"
     },
     "user_tz": -420
    },
    "id": "ArjW03wdV_ep",
    "outputId": "f9a5d33b-1b79-45e9-b451-499fa1d7b827"
   },
   "outputs": [
    {
     "data": {
      "text/plain": [
       "Index(['label', 'pixel0', 'pixel1', 'pixel2', 'pixel3', 'pixel4', 'pixel5',\n",
       "       'pixel6', 'pixel7', 'pixel8',\n",
       "       ...\n",
       "       'pixel774', 'pixel775', 'pixel776', 'pixel777', 'pixel778', 'pixel779',\n",
       "       'pixel780', 'pixel781', 'pixel782', 'pixel783'],\n",
       "      dtype='object', length=785)"
      ]
     },
     "execution_count": 5,
     "metadata": {
      "tags": []
     },
     "output_type": "execute_result"
    }
   ],
   "source": [
    "data_train.columns"
   ]
  },
  {
   "cell_type": "code",
   "execution_count": 0,
   "metadata": {
    "colab": {},
    "colab_type": "code",
    "id": "BuPZDYqYWnEw"
   },
   "outputs": [],
   "source": [
    "if torch.cuda.is_available():\n",
    "  device = torch.device('cuda')\n",
    "else:\n",
    "  device = torch.device('cpu')"
   ]
  },
  {
   "cell_type": "code",
   "execution_count": 0,
   "metadata": {
    "colab": {},
    "colab_type": "code",
    "id": "yz3u5AHqWfb6"
   },
   "outputs": [],
   "source": [
    "BATCH_SIZE = 64"
   ]
  },
  {
   "cell_type": "code",
   "execution_count": 0,
   "metadata": {
    "colab": {},
    "colab_type": "code",
    "id": "lTi2iXnXV_ey"
   },
   "outputs": [],
   "source": [
    "X_train = data_train.drop(columns='label')\n",
    "y_train = data_train['label']\n",
    "X_train, X_val, y_train, y_val = train_test_split(X_train, y_train, test_size=0.2)\n",
    "X_test = data_test.copy()"
   ]
  },
  {
   "cell_type": "code",
   "execution_count": 0,
   "metadata": {
    "colab": {},
    "colab_type": "code",
    "id": "r9YkDtLxXCP-"
   },
   "outputs": [],
   "source": [
    "X_train_tensor = torch.from_numpy(X_train.values).view(-1, 1, 28, 28).float()\n",
    "y_train_tensor = torch.from_numpy(y_train.values)\n",
    "\n",
    "X_val_tensor = torch.from_numpy(X_val.values).view(-1, 1, 28, 28).float()\n",
    "y_val_tensor = torch.from_numpy(y_val.values)\n",
    "\n",
    "X_test_tensor = torch.from_numpy(X_test.values).view(-1, 1, 28, 28).float()"
   ]
  },
  {
   "cell_type": "code",
   "execution_count": 0,
   "metadata": {
    "colab": {},
    "colab_type": "code",
    "id": "JLr4HEs5U8KY"
   },
   "outputs": [],
   "source": [
    "train_dataset = torch.utils.data.TensorDataset(X_train_tensor, y_train_tensor)\n",
    "val_dataset = torch.utils.data.TensorDataset(X_val_tensor, y_val_tensor)\n",
    "\n",
    "train_loader = torch.utils.data.DataLoader(train_dataset, batch_size=BATCH_SIZE, shuffle=True)\n",
    "val_loader = torch.utils.data.DataLoader(val_dataset, batch_size=BATCH_SIZE, shuffle=False)"
   ]
  },
  {
   "cell_type": "code",
   "execution_count": 11,
   "metadata": {
    "colab": {
     "base_uri": "https://localhost:8080/",
     "height": 85
    },
    "colab_type": "code",
    "executionInfo": {
     "elapsed": 1052,
     "status": "ok",
     "timestamp": 1565103916017,
     "user": {
      "displayName": "Tu Ngo",
      "photoUrl": "https://lh3.googleusercontent.com/-aOVxMSryDDI/AAAAAAAAAAI/AAAAAAAAAGc/n_A7xmL7edA/s64/photo.jpg",
      "userId": "12219841345968683277"
     },
     "user_tz": -420
    },
    "id": "08qPT15OV_e6",
    "outputId": "2c07421b-5a8c-45df-d293-02cfc79a48be"
   },
   "outputs": [
    {
     "data": {
      "image/png": "[encoded data removed]",
      "text/plain": [
       "<Figure size 720x720 with 10 Axes>"
      ]
     },
     "metadata": {
      "tags": []
     },
     "output_type": "display_data"
    }
   ],
   "source": [
    "# visualizing some digits\n",
    "plt.figure(figsize=(10, 10))\n",
    "for i in range(10):\n",
    "    digit = X_train.iloc[i].values.reshape(28, 28)\n",
    "    plt.subplot(1, 10, i+1)\n",
    "    plt.imshow(digit, cmap='gray')\n",
    "    plt.xticks([])  # disable x label\n",
    "    plt.yticks([])  # disable y label"
   ]
  },
  {
   "cell_type": "code",
   "execution_count": 0,
   "metadata": {
    "colab": {},
    "colab_type": "code",
    "id": "H-wlLMkIV_fB"
   },
   "outputs": [],
   "source": [
    "class ConvNet(nn.Module):\n",
    "    def __init__(self, channel_1, channel_2, channel_3):\n",
    "        super().__init__()\n",
    "        self.conv1 = nn.Conv2d(1, channel_1, kernel_size=5, padding=2)\n",
    "        self.bn1 = nn.BatchNorm2d(channel_1)\n",
    "        self.relu1 = nn.ReLU()\n",
    "        self.mp1 = nn.MaxPool2d(kernel_size=2)\n",
    "        self.conv2 = nn.Conv2d(channel_1, channel_2, kernel_size=3, padding=1)\n",
    "        self.bn2 = nn.BatchNorm2d(channel_2)\n",
    "        self.relu2 = nn.ReLU()\n",
    "        self.mp2 = nn.MaxPool2d(kernel_size=2)\n",
    "        self.conv3 = nn.Conv2d(channel_2, channel_3, kernel_size=3, padding=1)\n",
    "        self.bn3 = nn.BatchNorm2d(channel_3)\n",
    "        self.relu3 = nn.ReLU()\n",
    "        self.mp3 = nn.MaxPool2d(kernel_size=2)\n",
    "        self.fc1 = nn.Linear(channel_3*3*3, 10)\n",
    "        \n",
    "    def forward(self, x):\n",
    "        out1 = self.mp1(self.relu1(self.bn1(self.conv1(x))))\n",
    "        out2 = self.mp2(self.relu2(self.bn2(self.conv2(out1))))\n",
    "        out3 = self.mp3(self.relu3(self.bn3(self.conv3(out2))))\n",
    "        out3 = self.flatten(out3)\n",
    "        scores = self.fc1(out3)\n",
    "        return scores\n",
    "        \n",
    "    def flatten(self, x):\n",
    "        N = x.shape[0] # read in N, C, H, W\n",
    "        return x.view(N, -1)  # \"flatten\" the C * H * W values into a single vector per image"
   ]
  },
  {
   "cell_type": "code",
   "execution_count": 0,
   "metadata": {
    "colab": {},
    "colab_type": "code",
    "id": "Eaov9jijV_fN"
   },
   "outputs": [],
   "source": [
    "def check_accuracy(loader, model, batch_size):\n",
    "    num_correct = 0\n",
    "    num_samples = len(loader.dataset)\n",
    "    model.eval()\n",
    "    with torch.no_grad():\n",
    "        for t, (X_batch, y_batch) in enumerate(loader):\n",
    "            X_batch = X_batch.to(device=device)\n",
    "            y_batch = y_batch.to(device=device, dtype=torch.long)\n",
    "            output = model(X_batch)\n",
    "            y_pred = output.max(1)[1]\n",
    "            num_correct += (y_pred == y_batch).sum()\n",
    "        acc = float(num_correct*100) / num_samples\n",
    "        print('Validation accuracy: %.2f' %acc)\n",
    "\n",
    "\n",
    "def train(train_loader, val_loader, model, optimizer, criterion, epochs=1, batch_size=64, print_every=50):\n",
    "    model = model.to(device=device)\n",
    "    for e in range(epochs):\n",
    "        correct = 0\n",
    "        model.train()\n",
    "        for t, (X_batch, y_batch) in enumerate(train_loader):\n",
    "            X_batch = X_batch.to(device=device)\n",
    "            y_batch = y_batch.to(device=device, dtype=torch.long)\n",
    "            optimizer.zero_grad()\n",
    "            output = model(X_batch)\n",
    "            loss = criterion(output, y_batch)\n",
    "            loss.backward()\n",
    "            optimizer.step()\n",
    "            \n",
    "            predicted = torch.max(output.data, 1)[1] \n",
    "            correct += (predicted == y_batch).sum()\n",
    "            if t % print_every == 0:\n",
    "                print('Epoch %d, iteration %d: loss = %.3f' %(e, t, loss.item()))\n",
    "                check_accuracy(val_loader, model, batch_size)\n",
    "                print()\n",
    "                \n",
    "def predict(X, model):\n",
    "    model = model.to(device=device)\n",
    "    model.eval()\n",
    "    with torch.no_grad():\n",
    "        X = X.to(device=device)\n",
    "        output = model(X)\n",
    "        y_pred = output.max(1)[1]\n",
    "    return y_pred"
   ]
  },
  {
   "cell_type": "code",
   "execution_count": 0,
   "metadata": {
    "colab": {},
    "colab_type": "code",
    "id": "TOJSESTkV_fT"
   },
   "outputs": [],
   "source": [
    "model = ConvNet(16, 32, 64)\n",
    "optimizer = optim.Adam(model.parameters(), lr=0.002)\n",
    "criterion = nn.CrossEntropyLoss()"
   ]
  },
  {
   "cell_type": "code",
   "execution_count": 61,
   "metadata": {
    "colab": {
     "base_uri": "https://localhost:8080/",
     "height": 1000
    },
    "colab_type": "code",
    "executionInfo": {
     "elapsed": 29425,
     "status": "ok",
     "timestamp": 1565106806571,
     "user": {
      "displayName": "Tu Ngo",
      "photoUrl": "https://lh3.googleusercontent.com/-aOVxMSryDDI/AAAAAAAAAAI/AAAAAAAAAGc/n_A7xmL7edA/s64/photo.jpg",
      "userId": "12219841345968683277"
     },
     "user_tz": -420
    },
    "id": "taxsZC4aV_fb",
    "outputId": "0f311458-616f-40c4-d6f3-e478e48c34da"
   },
   "outputs": [
    {
     "name": "stdout",
     "output_type": "stream",
     "text": [
      "Epoch 0, iteration 0: loss = 2.422\n",
      "Validation accuracy: 12.48\n",
      "\n",
      "Epoch 0, iteration 100: loss = 0.103\n",
      "Validation accuracy: 94.12\n",
      "\n",
      "Epoch 0, iteration 200: loss = 0.035\n",
      "Validation accuracy: 95.49\n",
      "\n",
      "Epoch 0, iteration 300: loss = 0.048\n",
      "Validation accuracy: 97.10\n",
      "\n",
      "Epoch 0, iteration 400: loss = 0.093\n",
      "Validation accuracy: 97.33\n",
      "\n",
      "Epoch 0, iteration 500: loss = 0.105\n",
      "Validation accuracy: 98.00\n",
      "\n",
      "Epoch 1, iteration 0: loss = 0.447\n",
      "Validation accuracy: 97.94\n",
      "\n",
      "Epoch 1, iteration 100: loss = 0.015\n",
      "Validation accuracy: 97.96\n",
      "\n",
      "Epoch 1, iteration 200: loss = 0.077\n",
      "Validation accuracy: 97.90\n",
      "\n",
      "Epoch 1, iteration 300: loss = 0.005\n",
      "Validation accuracy: 98.33\n",
      "\n",
      "Epoch 1, iteration 400: loss = 0.125\n",
      "Validation accuracy: 98.14\n",
      "\n",
      "Epoch 1, iteration 500: loss = 0.005\n",
      "Validation accuracy: 98.40\n",
      "\n",
      "Epoch 2, iteration 0: loss = 0.343\n",
      "Validation accuracy: 98.30\n",
      "\n",
      "Epoch 2, iteration 100: loss = 0.009\n",
      "Validation accuracy: 98.39\n",
      "\n",
      "Epoch 2, iteration 200: loss = 0.036\n",
      "Validation accuracy: 98.61\n",
      "\n",
      "Epoch 2, iteration 300: loss = 0.040\n",
      "Validation accuracy: 98.58\n",
      "\n",
      "Epoch 2, iteration 400: loss = 0.013\n",
      "Validation accuracy: 97.99\n",
      "\n",
      "Epoch 2, iteration 500: loss = 0.006\n",
      "Validation accuracy: 98.54\n",
      "\n",
      "Epoch 3, iteration 0: loss = 0.202\n",
      "Validation accuracy: 98.54\n",
      "\n",
      "Epoch 3, iteration 100: loss = 0.013\n",
      "Validation accuracy: 98.50\n",
      "\n",
      "Epoch 3, iteration 200: loss = 0.015\n",
      "Validation accuracy: 98.80\n",
      "\n",
      "Epoch 3, iteration 300: loss = 0.038\n",
      "Validation accuracy: 98.54\n",
      "\n",
      "Epoch 3, iteration 400: loss = 0.043\n",
      "Validation accuracy: 98.43\n",
      "\n",
      "Epoch 3, iteration 500: loss = 0.022\n",
      "Validation accuracy: 98.89\n",
      "\n",
      "Epoch 4, iteration 0: loss = 0.224\n",
      "Validation accuracy: 98.82\n",
      "\n",
      "Epoch 4, iteration 100: loss = 0.014\n",
      "Validation accuracy: 98.62\n",
      "\n",
      "Epoch 4, iteration 200: loss = 0.050\n",
      "Validation accuracy: 98.57\n",
      "\n",
      "Epoch 4, iteration 300: loss = 0.019\n",
      "Validation accuracy: 98.60\n",
      "\n",
      "Epoch 4, iteration 400: loss = 0.014\n",
      "Validation accuracy: 98.44\n",
      "\n",
      "Epoch 4, iteration 500: loss = 0.023\n",
      "Validation accuracy: 98.62\n",
      "\n",
      "Epoch 5, iteration 0: loss = 0.105\n",
      "Validation accuracy: 98.67\n",
      "\n",
      "Epoch 5, iteration 100: loss = 0.004\n",
      "Validation accuracy: 98.63\n",
      "\n",
      "Epoch 5, iteration 200: loss = 0.015\n",
      "Validation accuracy: 98.39\n",
      "\n",
      "Epoch 5, iteration 300: loss = 0.010\n",
      "Validation accuracy: 98.77\n",
      "\n",
      "Epoch 5, iteration 400: loss = 0.000\n",
      "Validation accuracy: 98.82\n",
      "\n",
      "Epoch 5, iteration 500: loss = 0.012\n",
      "Validation accuracy: 98.88\n",
      "\n",
      "Epoch 6, iteration 0: loss = 0.136\n",
      "Validation accuracy: 98.90\n",
      "\n",
      "Epoch 6, iteration 100: loss = 0.008\n",
      "Validation accuracy: 99.04\n",
      "\n",
      "Epoch 6, iteration 200: loss = 0.005\n",
      "Validation accuracy: 98.75\n",
      "\n",
      "Epoch 6, iteration 300: loss = 0.027\n",
      "Validation accuracy: 98.82\n",
      "\n",
      "Epoch 6, iteration 400: loss = 0.000\n",
      "Validation accuracy: 98.51\n",
      "\n",
      "Epoch 6, iteration 500: loss = 0.115\n",
      "Validation accuracy: 98.82\n",
      "\n",
      "Epoch 7, iteration 0: loss = 0.098\n",
      "Validation accuracy: 98.71\n",
      "\n",
      "Epoch 7, iteration 100: loss = 0.010\n",
      "Validation accuracy: 98.89\n",
      "\n",
      "Epoch 7, iteration 200: loss = 0.047\n",
      "Validation accuracy: 98.79\n",
      "\n",
      "Epoch 7, iteration 300: loss = 0.007\n",
      "Validation accuracy: 98.89\n",
      "\n",
      "Epoch 7, iteration 400: loss = 0.007\n",
      "Validation accuracy: 98.79\n",
      "\n",
      "Epoch 7, iteration 500: loss = 0.018\n",
      "Validation accuracy: 98.81\n",
      "\n",
      "Epoch 8, iteration 0: loss = 0.057\n",
      "Validation accuracy: 98.82\n",
      "\n",
      "Epoch 8, iteration 100: loss = 0.001\n",
      "Validation accuracy: 99.14\n",
      "\n",
      "Epoch 8, iteration 200: loss = 0.250\n",
      "Validation accuracy: 98.96\n",
      "\n",
      "Epoch 8, iteration 300: loss = 0.030\n",
      "Validation accuracy: 98.96\n",
      "\n",
      "Epoch 8, iteration 400: loss = 0.002\n",
      "Validation accuracy: 98.93\n",
      "\n",
      "Epoch 8, iteration 500: loss = 0.003\n",
      "Validation accuracy: 98.89\n",
      "\n",
      "Epoch 9, iteration 0: loss = 0.059\n",
      "Validation accuracy: 99.04\n",
      "\n",
      "Epoch 9, iteration 100: loss = 0.001\n",
      "Validation accuracy: 98.98\n",
      "\n",
      "Epoch 9, iteration 200: loss = 0.017\n",
      "Validation accuracy: 98.89\n",
      "\n",
      "Epoch 9, iteration 300: loss = 0.003\n",
      "Validation accuracy: 98.80\n",
      "\n",
      "Epoch 9, iteration 400: loss = 0.002\n",
      "Validation accuracy: 99.02\n",
      "\n",
      "Epoch 9, iteration 500: loss = 0.005\n",
      "Validation accuracy: 98.80\n",
      "\n"
     ]
    }
   ],
   "source": [
    "train(train_loader, val_loader, model, optimizer, criterion, epochs=10, print_every=100)"
   ]
  },
  {
   "cell_type": "code",
   "execution_count": 0,
   "metadata": {
    "colab": {},
    "colab_type": "code",
    "id": "UkZrr0jTPSW_"
   },
   "outputs": [],
   "source": [
    "y_pred = predict(X_test_tensor, model).cpu()"
   ]
  },
  {
   "cell_type": "code",
   "execution_count": 0,
   "metadata": {
    "colab": {},
    "colab_type": "code",
    "id": "6JtJpEWpXdWd"
   },
   "outputs": [],
   "source": [
    "output = pd.DataFrame({'ImageId': range(1,len(y_pred)+1), 'Label': y_pred}).set_index('ImageId')"
   ]
  },
  {
   "cell_type": "code",
   "execution_count": 0,
   "metadata": {
    "colab": {},
    "colab_type": "code",
    "id": "odNLf4DImcNW"
   },
   "outputs": [],
   "source": [
    "output.to_csv('output/output.csv')"
   ]
  },
  {
   "cell_type": "code",
   "execution_count": 0,
   "metadata": {
    "colab": {},
    "colab_type": "code",
    "id": "SvEg_1V2ruzF"
   },
   "outputs": [],
   "source": []
  }
 ],
 "metadata": {
  "accelerator": "GPU",
  "colab": {
   "collapsed_sections": [],
   "name": "mnist.ipynb",
   "provenance": [],
   "version": "0.3.2"
  },
  "kernelspec": {
   "display_name": "Python 3",
   "language": "python",
   "name": "python3"
  },
  "language_info": {
   "codemirror_mode": {
    "name": "ipython",
    "version": 3
   },
   "file_extension": ".py",
   "mimetype": "text/x-python",
   "name": "python",
   "nbconvert_exporter": "python",
   "pygments_lexer": "ipython3",
   "version": "3.7.3"
  }
 },
 "nbformat": 4,
 "nbformat_minor": 1
}
